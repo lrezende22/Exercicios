{
  "nbformat": 4,
  "nbformat_minor": 0,
  "metadata": {
    "colab": {
      "provenance": [],
      "authorship_tag": "ABX9TyNxGau74RLd3xlpgT0ezDnH",
      "include_colab_link": true
    },
    "kernelspec": {
      "name": "python3",
      "display_name": "Python 3"
    },
    "language_info": {
      "name": "python"
    }
  },
  "cells": [
    {
      "cell_type": "markdown",
      "metadata": {
        "id": "view-in-github",
        "colab_type": "text"
      },
      "source": [
        "<a href=\"https://colab.research.google.com/github/lrezende22/Exercicios/blob/main/Exercicios_dia_16.ipynb\" target=\"_parent\"><img src=\"https://colab.research.google.com/assets/colab-badge.svg\" alt=\"Open In Colab\"/></a>"
      ]
    },
    {
      "cell_type": "markdown",
      "source": [
        "# Enunciado: Calcule a soma entre todos os números impares que são multiplos de 3 e que se encontram no intervalo de 1 até 500"
      ],
      "metadata": {
        "id": "1-jnD0Z9_b2u"
      }
    },
    {
      "cell_type": "code",
      "source": [
        "n = 1000\n",
        "soma = 0\n",
        "cont = 0\n",
        "\n",
        "for c in range(1,n):\n",
        "  if c % 3 == 0 or c % 5 == 0:  #divisivel por 3 ou por 5\n",
        "    soma = c + soma\n",
        "    cont = cont + 1\n",
        "print('A soma de todos os {} valores é igual {}'.format(cont,soma))"
      ],
      "metadata": {
        "colab": {
          "base_uri": "https://localhost:8080/"
        },
        "id": "10NEGdk2Bf5-",
        "outputId": "cf3448c1-1b46-4bb3-b8b0-1f248b687e02"
      },
      "execution_count": null,
      "outputs": [
        {
          "output_type": "stream",
          "name": "stdout",
          "text": [
            "A soma de todos os 466 valores é igual 233168\n"
          ]
        }
      ]
    }
  ]
}