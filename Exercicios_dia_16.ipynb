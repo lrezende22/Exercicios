{
  "nbformat": 4,
  "nbformat_minor": 0,
  "metadata": {
    "colab": {
      "provenance": [],
      "include_colab_link": true
    },
    "kernelspec": {
      "name": "python3",
      "display_name": "Python 3"
    },
    "language_info": {
      "name": "python"
    }
  },
  "cells": [
    {
      "cell_type": "markdown",
      "metadata": {
        "id": "view-in-github",
        "colab_type": "text"
      },
      "source": [
        "<a href=\"https://colab.research.google.com/github/lrezende22/Exercicios/blob/main/Exercicios_dia_16.ipynb\" target=\"_parent\"><img src=\"https://colab.research.google.com/assets/colab-badge.svg\" alt=\"Open In Colab\"/></a>"
      ]
    },
    {
      "cell_type": "markdown",
      "source": [
        "# EXERCÍCIO 1: Calcule a soma entre todos os números impares que são multiplos de 3 e que se encontram no intervalo de 1 até 500"
      ],
      "metadata": {
        "id": "1-jnD0Z9_b2u"
      }
    },
    {
      "cell_type": "code",
      "source": [
        "n = 1000\n",
        "soma = 0\n",
        "cont = 0\n",
        "\n",
        "for c in range(1,n):\n",
        "  if c % 3 == 0 or c % 5 == 0:  #divisivel por 3 ou por 5\n",
        "    soma = c + soma\n",
        "    cont = cont + 1\n",
        "print('A soma de todos os {} valores é igual {}'.format(cont,soma))"
      ],
      "metadata": {
        "colab": {
          "base_uri": "https://localhost:8080/"
        },
        "id": "10NEGdk2Bf5-",
        "outputId": "cf3448c1-1b46-4bb3-b8b0-1f248b687e02"
      },
      "execution_count": null,
      "outputs": [
        {
          "output_type": "stream",
          "name": "stdout",
          "text": [
            "A soma de todos os 466 valores é igual 233168\n"
          ]
        }
      ]
    },
    {
      "cell_type": "markdown",
      "source": [
        "# EXERCÍCIO 2: Grade School"
      ],
      "metadata": {
        "id": "JSABL0fYa0x9"
      }
    },
    {
      "cell_type": "code",
      "source": [
        "class Escola:\n",
        "    def __init__(self):\n",
        "        self._registro = {}\n",
        "        self._matriculados = {}\n",
        "\n",
        "    def adicionar_aluno(self, nome, serie):\n",
        "        if nome in self._matriculados:\n",
        "            return \"Erro: Aluno já matriculado.\"\n",
        "        self._matriculados[nome] = True\n",
        "        if serie not in self._registro:\n",
        "            self._registro[serie] = []\n",
        "        self._registro[serie].append(nome)\n",
        "        return \"OK.\"\n",
        "\n",
        "    def alunos_na_serie(self, numero_serie):\n",
        "        if numero_serie in self._registro:\n",
        "            return self.ordenar(self._registro[numero_serie])\n",
        "        return []\n",
        "\n",
        "    def todos_alunos(self):\n",
        "        series = list(self._registro.keys())\n",
        "        series_ordenadas = self.ordenar(series)\n",
        "        resultado = []\n",
        "        for serie in series_ordenadas:\n",
        "            alunos = self.ordenar(self._registro[serie])\n",
        "            resultado.extend(alunos)\n",
        "        return resultado\n",
        "\n",
        "    def ordenar(self, lista):\n",
        "        copia = lista[:]\n",
        "        n = len(copia)\n",
        "        # Algoritmo de ordenação por inserção\n",
        "        for i in range(1, n):\n",
        "            chave = copia[i]\n",
        "            j = i - 1\n",
        "            # Move elementos maiores para frente\n",
        "            while j >= 0 and copia[j] > chave:\n",
        "                copia[j + 1] = copia[j]\n",
        "                j -= 1\n",
        "            copia[j + 1] = chave\n",
        "        return copia"
      ],
      "metadata": {
        "id": "JJeixVb3axzG"
      },
      "execution_count": 1,
      "outputs": []
    }
  ]
}